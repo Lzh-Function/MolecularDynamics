{
 "cells": [
  {
   "cell_type": "code",
   "execution_count": 1,
   "metadata": {},
   "outputs": [],
   "source": [
    "from rdkit import Chem\n",
    "from rdkit.Chem import AllChem, Draw\n",
    "import numpy as np\n",
    "\n",
    "import openmm as mm\n",
    "import openmm.app as app\n",
    "from openmm import unit\n",
    "import pdbfixer\n",
    "from openff.toolkit.topology import Molecule\n",
    "from openmmforcefields.generators import GAFFTemplateGenerator, SMIRNOFFTemplateGenerator\n",
    "import mdtraj as md"
   ]
  },
  {
   "cell_type": "code",
   "execution_count": 2,
   "metadata": {},
   "outputs": [],
   "source": [
    "fixer = pdbfixer.PDBFixer(\"data/7zzs_zinc.pdb\")\n",
    "\n",
    "# remove heterogen\n",
    "fixer.removeHeterogens()\n",
    "fixer.findMissingResidues()\n",
    "# 末端残基の削除\n",
    "chains = list(fixer.topology.chains())\n",
    "keys = fixer.missingResidues.keys()\n",
    "for key in list(keys):\n",
    "    chain = chains[key[0]]\n",
    "    if key[1] == 0 or key[1] == len(list(chain.residues())):\n",
    "        del fixer.missingResidues[key]\n",
    "# 非標準残基、欠損原子の確認\n",
    "fixer.findNonstandardResidues()\n",
    "fixer.replaceNonstandardResidues()\n",
    "fixer.findMissingAtoms()\n",
    "fixer.addMissingAtoms()\n",
    "# 水素原子の付与\n",
    "ph = 7.0\n",
    "fixer.addMissingHydrogens(ph)\n"
   ]
  },
  {
   "cell_type": "code",
   "execution_count": 3,
   "metadata": {},
   "outputs": [],
   "source": [
    "# Znの抽出\n",
    "fixer2 = pdbfixer.PDBFixer(\"data/7zzs_zinc.pdb\")\n",
    "mod_zn = app.Modeller(fixer2.topology,fixer2.positions)\n",
    "toDelete = []\n",
    "for v in fixer2.topology.residues():\n",
    "    if v.name != \"ZN\":\n",
    "        toDelete.append(v)\n",
    "mod_zn.delete(toDelete)"
   ]
  },
  {
   "cell_type": "code",
   "execution_count": 4,
   "metadata": {},
   "outputs": [
    {
     "name": "stderr",
     "output_type": "stream",
     "text": [
      "[16:30:59] WARNING: More than one matching pattern found - picking one\n",
      "\n"
     ]
    }
   ],
   "source": [
    "rdkit_mol = Chem.MolFromPDBFile(\"data/vorinostat.pdb\")\n",
    "#rdkit_mol_split = Chem.rdmolops.SplitMolByPDBResidues(rdkit_mol)\n",
    "\n",
    "# extract the ligand and remove any already present hydrogens\n",
    "ligand = Chem.RemoveHs(rdkit_mol)\n",
    "\n",
    "# assign bond orders from template\n",
    "reference_mol = Chem.MolFromSmiles(\"O=C(Nc1ccccc1)CCCCCCC(=O)NO\")\n",
    "prepared_ligand = AllChem.AssignBondOrdersFromTemplate(reference_mol, ligand)\n",
    "prepared_ligand.AddConformer(ligand.GetConformer(0))\n",
    "\n",
    "# protonate ligand\n",
    "prepared_ligand = Chem.rdmolops.AddHs(prepared_ligand, addCoords=True)\n",
    "prepared_ligand = Chem.MolFromMolBlock(Chem.MolToMolBlock(prepared_ligand))"
   ]
  },
  {
   "cell_type": "code",
   "execution_count": 5,
   "metadata": {},
   "outputs": [],
   "source": [
    "off_mol = Molecule.from_rdkit(prepared_ligand)\n",
    "\n",
    "# add names for atoms\n",
    "element_counter_dict = {}\n",
    "for off_atom, rdkit_atom in zip(off_mol.atoms, rdkit_mol.GetAtoms()):\n",
    "    element = rdkit_atom.GetSymbol()\n",
    "    if element in element_counter_dict.keys():\n",
    "        element_counter_dict[element] += 1\n",
    "    else:\n",
    "        element_counter_dict[element] = 1\n",
    "    off_atom.name = element + str(element_counter_dict[element])\n",
    "\n",
    "# convert from OpenFF to OpenMM\n",
    "off_mol_topology = off_mol.to_topology()\n",
    "mol_topology = off_mol_topology.to_openmm()\n",
    "mol_positions = off_mol.conformers[0]\n",
    "\n",
    "# convert units from Ångström to nanometers\n",
    "# since OpenMM works in nm\n",
    "mol_positions = mol_positions.to(\"nanometers\")\n",
    "\n",
    "# combine topology and positions in modeller object\n",
    "omm_mol = app.Modeller(mol_topology, mol_positions)"
   ]
  },
  {
   "cell_type": "code",
   "execution_count": 6,
   "metadata": {},
   "outputs": [
    {
     "name": "stderr",
     "output_type": "stream",
     "text": [
      "/opt/miniconda3/envs/mdenv/lib/python3.11/site-packages/openmm/unit/quantity.py:753: UnitStrippedWarning: The unit of the quantity is stripped when downcasting to ndarray.\n",
      "  self._value[key] = value / self.unit\n"
     ]
    }
   ],
   "source": [
    "md_protein_topology = md.Topology.from_openmm(fixer.topology)  # using mdtraj for protein top\n",
    "md_ligand_topology = md.Topology.from_openmm(omm_mol.topology)  # using mdtraj for ligand top\n",
    "md_ion_topology = md.Topology.from_openmm(mod_zn.topology)\n",
    "md_complex_topology = md_protein_topology.join(md_ligand_topology)  # add them together\n",
    "md_complex_topology = md_complex_topology.join(md_ion_topology)\n",
    "complex_topology = md_complex_topology.to_openmm()\n",
    "\n",
    "# combine positions\n",
    "total_atoms = len(fixer.positions) + len(omm_mol.positions) + len(mod_zn.positions)\n",
    "\n",
    "# create an array for storing all atom positions as tupels containing a value and a unit\n",
    "# called OpenMM Quantities\n",
    "complex_positions = unit.Quantity(np.zeros([total_atoms, 3]), unit=unit.nanometers)\n",
    "complex_positions[: len(fixer.positions)] = fixer.positions  # add protein positions\n",
    "complex_positions[len(fixer.positions) :-len(mod_zn.positions)] = omm_mol.positions  # add ligand positions\n",
    "complex_positions[-len(mod_zn.positions):] = mod_zn.positions"
   ]
  },
  {
   "cell_type": "code",
   "execution_count": 7,
   "metadata": {},
   "outputs": [],
   "source": [
    "FF = app.ForceField('amber/ff14SB.xml', \n",
    "                    'amber/tip3pfb_standard.xml')\n",
    "smff = SMIRNOFFTemplateGenerator(\n",
    "    molecules=off_mol\n",
    ")\n",
    "FF.registerTemplateGenerator(smff.generator)"
   ]
  },
  {
   "cell_type": "code",
   "execution_count": 8,
   "metadata": {},
   "outputs": [
    {
     "data": {
      "application/vnd.jupyter.widget-view+json": {
       "model_id": "6ffae3d37f4f4d3a9906ae3fca0ebaa7",
       "version_major": 2,
       "version_minor": 0
      },
      "text/plain": []
     },
     "metadata": {},
     "output_type": "display_data"
    }
   ],
   "source": [
    "complex_model = app.Modeller(complex_topology, complex_positions)\n",
    "complex_model.addSolvent(FF,padding=1.2*unit.nanometers,ionicStrength=0.15*unit.molar)\n",
    "top = complex_model.getTopology()\n",
    "pos = complex_model.getPositions()\n",
    "app.PDBFile.writeFile(top,pos,open(\"data/7zzs_SMIRNOFF_processed.pdb\",\"w\"))"
   ]
  },
  {
   "cell_type": "markdown",
   "metadata": {},
   "source": [
    "---"
   ]
  },
  {
   "cell_type": "code",
   "execution_count": 9,
   "metadata": {},
   "outputs": [],
   "source": [
    "import time\n",
    "\n",
    "from openmm import *\n",
    "from openmm.app import *\n",
    "from openmm import unit"
   ]
  },
  {
   "cell_type": "code",
   "execution_count": 10,
   "metadata": {},
   "outputs": [
    {
     "name": "stdout",
     "output_type": "stream",
     "text": [
      "equilibration time: 100.0 ps\n",
      "simulation time: 100.0 ns\n"
     ]
    }
   ],
   "source": [
    "nonbondedMethod = PME\n",
    "nonbondedCutoff = 1.0 * unit.nanometers\n",
    "ewaldErrorTolerance = 5e-4\n",
    "constraints = HBonds\n",
    "rigidWater = True\n",
    "constraintTolerance = 1e-6\n",
    "\n",
    "temperature = 300 * unit.kelvin\n",
    "friction = 1.0 / unit.picoseconds\n",
    "pressure = 1.0 * unit.atmospheres\n",
    "barostatInterval = 25\n",
    "\n",
    "dt = 2.0 * unit.femtoseconds\n",
    "equilibrationSteps = 50000\n",
    "steps = 50000000\n",
    "\n",
    "platform = Platform.getPlatformByName(\"CUDA\")\n",
    "platformProperties = {\"Precision\":\"single\"}\n",
    "\n",
    "reporterStep = 10000\n",
    "checkpointStep = 10000\n",
    "\n",
    "print(\"equilibration time: {} ps\".format(np.floor(dt*equilibrationSteps / unit.picoseconds)))\n",
    "print(\"simulation time: {} ns\".format(np.floor(dt*steps / unit.nanoseconds)))"
   ]
  },
  {
   "cell_type": "code",
   "execution_count": 11,
   "metadata": {},
   "outputs": [
    {
     "name": "stdout",
     "output_type": "stream",
     "text": [
      "energy minimization start\n"
     ]
    }
   ],
   "source": [
    "system = FF.createSystem(complex_model.topology,\n",
    "                         nonbondedMethod=nonbondedMethod,\n",
    "                         nonbondedCutoff=nonbondedCutoff,\n",
    "                         constraints=constraints,\n",
    "                         rigidWater=rigidWater,\n",
    "                         ewaldErrorTolerance=ewaldErrorTolerance)\n",
    "system.addForce(MonteCarloBarostat(pressure,temperature,barostatInterval))\n",
    "\n",
    "# integrator\n",
    "integrator = LangevinMiddleIntegrator(temperature,friction,dt)\n",
    "integrator.setConstraintTolerance(constraintTolerance)\n",
    "\n",
    "# simulation const\n",
    "simulation = Simulation(complex_model.topology,system,integrator,platform,platformProperties)\n",
    "simulation.context.setPositions(complex_model.positions)\n",
    "\n",
    "with open(\"data/before_minimize.pdb\",\"w\") as f:\n",
    "    app.PDBFile.writeFile(\n",
    "        simulation.topology,\n",
    "        simulation.context.getState(getPositions=True,enforcePeriodicBox=False).getPositions(),\n",
    "        file=f,\n",
    "        keepIds=True\n",
    "    )\n",
    "\n",
    "# xml outputs\n",
    "with open(\"result/system.xml\",mode=\"w\") as f:\n",
    "    f.write(XmlSerializer.serialize(system))\n",
    "with open(\"result/integrator.xml\",mode=\"w\") as f:\n",
    "    f.write(XmlSerializer.serialize(integrator))\n",
    "\n",
    "# energy minimization\n",
    "print(\"energy minimization start\")\n",
    "simulation.minimizeEnergy()\n",
    "with open(\"data/minimized.pdb\",\"w\") as f:\n",
    "    app.PDBFile.writeFile(\n",
    "        simulation.topology,\n",
    "        simulation.context.getState(getPositions=True,enforcePeriodicBox=False).getPositions(),\n",
    "        file=f,\n",
    "        keepIds=True\n",
    "    )"
   ]
  },
  {
   "cell_type": "code",
   "execution_count": 12,
   "metadata": {},
   "outputs": [
    {
     "name": "stdout",
     "output_type": "stream",
     "text": [
      "equilibration start\n",
      "simulation start\n",
      "equib - simulation: 5.0 h 4.0 min 16.967447048053145 sec\n"
     ]
    }
   ],
   "source": [
    "dcdReporter = DCDReporter(\"result/trajectory.dcd\",reporterStep,enforcePeriodicBox=True)\n",
    "dataReporter = StateDataReporter(\"result/log.txt\",reporterStep,totalSteps=steps,step=True,speed=True,progress=True,potentialEnergy=True,temperature=True,separator=\"\\t\")\n",
    "checkpointReporter = CheckpointReporter(\"result/checkpoint.chk\",checkpointStep)\n",
    "\n",
    "# equilibration\n",
    "ts = time.perf_counter()\n",
    "print(\"equilibration start\")\n",
    "simulation.context.setVelocitiesToTemperature(temperature)\n",
    "simulation.step(equilibrationSteps)\n",
    "\n",
    "with open(\"data/equilibrated.pdb\",\"w\") as f:\n",
    "    app.PDBFile.writeFile(\n",
    "        simulation.topology,\n",
    "        simulation.context.getState(getPositions=True,enforcePeriodicBox=True).getPositions(),\n",
    "        file=f,\n",
    "        keepIds=True\n",
    "    )\n",
    "\n",
    "# repoters\n",
    "simulation.reporters.append(dcdReporter)\n",
    "simulation.reporters.append(dataReporter)\n",
    "simulation.reporters.append(checkpointReporter)\n",
    "simulation.currentStep = 0\n",
    "\n",
    "# simulation\n",
    "print(\"simulation start\")\n",
    "simulation.step(steps)\n",
    "\n",
    "# output\n",
    "simulation.saveState(\"result/final_state.xml\")\n",
    "state = simulation.context.getState(getPositions=True, enforcePeriodicBox=True)\n",
    "with open(\"result/final_state.cif\", mode=\"w\") as file:\n",
    "    PDBxFile.writeFile(simulation.topology, state.getPositions(), file)\n",
    "\n",
    "tg = time.perf_counter()\n",
    "elapse = tg - ts\n",
    "h = elapse // 3600\n",
    "m = (elapse % 3600) // 60\n",
    "s = elapse % 60\n",
    "print(f\"equib - simulation: {h} h {m} min {s} sec\")"
   ]
  },
  {
   "cell_type": "code",
   "execution_count": null,
   "metadata": {},
   "outputs": [],
   "source": []
  }
 ],
 "metadata": {
  "kernelspec": {
   "display_name": "mdenv",
   "language": "python",
   "name": "python3"
  },
  "language_info": {
   "codemirror_mode": {
    "name": "ipython",
    "version": 3
   },
   "file_extension": ".py",
   "mimetype": "text/x-python",
   "name": "python",
   "nbconvert_exporter": "python",
   "pygments_lexer": "ipython3",
   "version": "3.11.8"
  }
 },
 "nbformat": 4,
 "nbformat_minor": 2
}
