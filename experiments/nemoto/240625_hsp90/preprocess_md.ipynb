{
 "cells": [
  {
   "cell_type": "code",
   "execution_count": 1,
   "metadata": {},
   "outputs": [],
   "source": [
    "from rdkit import Chem\n",
    "from rdkit.Chem import AllChem, Draw\n",
    "import numpy as np\n",
    "\n",
    "import openmm as mm\n",
    "import openmm.app as app\n",
    "from openmm import unit\n",
    "import pdbfixer\n",
    "from openff.toolkit.topology import Molecule\n",
    "from openmmforcefields.generators import GAFFTemplateGenerator, SMIRNOFFTemplateGenerator\n",
    "import mdtraj as md"
   ]
  },
  {
   "cell_type": "code",
   "execution_count": 2,
   "metadata": {},
   "outputs": [],
   "source": [
    "fixer = pdbfixer.PDBFixer(\"data/2xjx.pdb\")\n",
    "# remove heterogen\n",
    "fixer.removeHeterogens()\n",
    "fixer.findMissingResidues()\n",
    "# 末端残基の削除\n",
    "chains = list(fixer.topology.chains())\n",
    "keys = fixer.missingResidues.keys()\n",
    "for key in list(keys):\n",
    "    chain = chains[key[0]]\n",
    "    if key[1] == 0 or key[1] == len(list(chain.residues())):\n",
    "        del fixer.missingResidues[key]\n",
    "# 非標準残基、欠損原子の確認\n",
    "fixer.findNonstandardResidues()\n",
    "fixer.replaceNonstandardResidues()\n",
    "fixer.findMissingAtoms()\n",
    "fixer.addMissingAtoms()\n",
    "# 水素原子の付与\n",
    "ph = 7.0\n",
    "fixer.addMissingHydrogens(ph)"
   ]
  },
  {
   "cell_type": "code",
   "execution_count": 3,
   "metadata": {},
   "outputs": [
    {
     "name": "stderr",
     "output_type": "stream",
     "text": [
      "[18:38:53] WARNING: More than one matching pattern found - picking one\n",
      "\n"
     ]
    }
   ],
   "source": [
    "rdkit_mol = Chem.MolFromPDBFile(\"data/2xjx.pdb\")\n",
    "rdkit_mol_split = Chem.rdmolops.SplitMolByPDBResidues(rdkit_mol)\n",
    "\n",
    "# extract the ligand and remove any already present hydrogens\n",
    "ligand = rdkit_mol_split[\"XJX\"]\n",
    "ligand = Chem.RemoveHs(ligand)\n",
    "\n",
    "# assign bond orders from template\n",
    "reference_mol = Chem.MolFromSmiles(\"CC(C)c1cc(c(cc1O)O)C(=O)N2Cc3ccc(cc3C2)CN4CCN(CC4)C\")\n",
    "prepared_ligand = AllChem.AssignBondOrdersFromTemplate(reference_mol, ligand)\n",
    "prepared_ligand.AddConformer(ligand.GetConformer(0))\n",
    "\n",
    "# protonate ligand\n",
    "prepared_ligand = Chem.rdmolops.AddHs(prepared_ligand, addCoords=True)\n",
    "prepared_ligand = Chem.MolFromMolBlock(Chem.MolToMolBlock(prepared_ligand))"
   ]
  },
  {
   "cell_type": "code",
   "execution_count": 4,
   "metadata": {},
   "outputs": [],
   "source": [
    "off_mol = Molecule.from_rdkit(prepared_ligand)\n",
    "\n",
    "# add name for molecule\n",
    "off_mol.name = \"LIG\"\n",
    "\n",
    "# add names for atoms\n",
    "element_counter_dict = {}\n",
    "for off_atom, rdkit_atom in zip(off_mol.atoms, rdkit_mol.GetAtoms()):\n",
    "    element = rdkit_atom.GetSymbol()\n",
    "    if element in element_counter_dict.keys():\n",
    "        element_counter_dict[element] += 1\n",
    "    else:\n",
    "        element_counter_dict[element] = 1\n",
    "    off_atom.name = element + str(element_counter_dict[element])\n",
    "\n",
    "# convert from OpenFF to OpenMM\n",
    "off_mol_topology = off_mol.to_topology()\n",
    "mol_topology = off_mol_topology.to_openmm()\n",
    "mol_positions = off_mol.conformers[0]\n",
    "\n",
    "# convert units from Ångström to nanometers\n",
    "# since OpenMM works in nm\n",
    "mol_positions = mol_positions.to(\"nanometers\")\n",
    "\n",
    "# combine topology and positions in modeller object\n",
    "omm_mol = app.Modeller(mol_topology, mol_positions)"
   ]
  },
  {
   "cell_type": "code",
   "execution_count": 5,
   "metadata": {},
   "outputs": [
    {
     "name": "stderr",
     "output_type": "stream",
     "text": [
      "/opt/miniconda3/envs/mdenv/lib/python3.11/site-packages/openmm/unit/quantity.py:753: UnitStrippedWarning: The unit of the quantity is stripped when downcasting to ndarray.\n",
      "  self._value[key] = value / self.unit\n"
     ]
    }
   ],
   "source": [
    "md_protein_topology = md.Topology.from_openmm(fixer.topology)  # using mdtraj for protein top\n",
    "md_ligand_topology = md.Topology.from_openmm(omm_mol.topology)  # using mdtraj for ligand top\n",
    "md_complex_topology = md_protein_topology.join(md_ligand_topology)  # add them together\n",
    "complex_topology = md_complex_topology.to_openmm()\n",
    "\n",
    "# combine positions\n",
    "total_atoms = len(fixer.positions) + len(omm_mol.positions)\n",
    "\n",
    "# create an array for storing all atom positions as tupels containing a value and a unit\n",
    "# called OpenMM Quantities\n",
    "complex_positions = unit.Quantity(np.zeros([total_atoms, 3]), unit=unit.nanometers)\n",
    "complex_positions[: len(fixer.positions)] = fixer.positions  # add protein positions\n",
    "complex_positions[len(fixer.positions) :] = omm_mol.positions  # add ligand positions"
   ]
  },
  {
   "cell_type": "code",
   "execution_count": 6,
   "metadata": {},
   "outputs": [],
   "source": [
    "FF = app.ForceField('amber14-all.xml', 'amber14/tip3pfb.xml')\n",
    "smff = SMIRNOFFTemplateGenerator(\n",
    "    molecules=off_mol\n",
    ")\n",
    "FF.registerTemplateGenerator(smff.generator)"
   ]
  },
  {
   "cell_type": "code",
   "execution_count": 7,
   "metadata": {},
   "outputs": [
    {
     "data": {
      "application/vnd.jupyter.widget-view+json": {
       "model_id": "c43334f86250423786a7421ab6407f27",
       "version_major": 2,
       "version_minor": 0
      },
      "text/plain": []
     },
     "metadata": {},
     "output_type": "display_data"
    }
   ],
   "source": [
    "complex_model = app.Modeller(complex_topology, complex_positions)\n",
    "complex_model.addSolvent(FF,padding=1.0*unit.nanometers,ionicStrength=0.15*unit.molar)\n",
    "top = complex_model.getTopology()\n",
    "pos = complex_model.getPositions()\n",
    "app.PDBFile.writeFile(top,pos,open(\"data/2xjx_SMIRNOFF_processed.pdb\",\"w\"))"
   ]
  },
  {
   "cell_type": "markdown",
   "metadata": {},
   "source": [
    "---"
   ]
  },
  {
   "cell_type": "code",
   "execution_count": 8,
   "metadata": {},
   "outputs": [],
   "source": [
    "import time\n",
    "\n",
    "from openmm import *\n",
    "from openmm.app import *\n",
    "from openmm import unit"
   ]
  },
  {
   "cell_type": "code",
   "execution_count": 9,
   "metadata": {},
   "outputs": [],
   "source": [
    "# params\n",
    "nonbondedMethod = PME\n",
    "nonbondedCutoff = 1.0 * unit.nanometers\n",
    "ewaldErrorTolerance = 5e-4\n",
    "constraints = HBonds\n",
    "rigidWater = True\n",
    "constraintTolerance = 1e-6\n",
    "\n",
    "dt = 2.0 * unit.femtoseconds\n",
    "temperature = 300 * unit.kelvin\n",
    "friction = 1.0 / unit.picosecond\n",
    "pressure = 1.0 * unit.atmospheres\n",
    "barostatInterval = 25\n",
    "\n",
    "steps = 1.0e7\n",
    "equilibrationSteps = 1.0e5\n",
    "\n",
    "# platform\n",
    "platform = Platform.getPlatformByName(\"CUDA\")\n",
    "platformProperties = {\"Precision\":\"single\"}\n",
    "\n",
    "# reporter definition\n",
    "dcdReporter = DCDReporter(\"result/trajectory.dcd\",10000)\n",
    "dataReporter = StateDataReporter(\"result/log.txt\",1000,totalSteps=steps,step=True,speed=True,progress=True,potentialEnergy=True,temperature=True,separator=\"\\t\")\n",
    "checkpointReporter = CheckpointReporter(\"result/checkpoint.chk\",10000)"
   ]
  },
  {
   "cell_type": "code",
   "execution_count": 10,
   "metadata": {},
   "outputs": [
    {
     "name": "stdout",
     "output_type": "stream",
     "text": [
      "energy minimization start\n",
      "equilibration start\n",
      "simulation start\n",
      "equib - simulation: 0.0 h 57.0 min 26.058753151010023 sec\n"
     ]
    }
   ],
   "source": [
    "# simulation prep\n",
    "system = FF.createSystem(complex_model.topology,\n",
    "                         nonbondedMethod=nonbondedMethod,\n",
    "                         nonbondedCutoff=nonbondedCutoff,\n",
    "                         constraints=constraints,\n",
    "                         rigidWater=rigidWater,\n",
    "                         ewaldErrorTolerance=ewaldErrorTolerance)\n",
    "system.addForce(MonteCarloBarostat(pressure,temperature,barostatInterval))\n",
    "\n",
    "# integrator\n",
    "integrator = LangevinMiddleIntegrator(temperature,friction,dt)\n",
    "integrator.setConstraintTolerance(constraintTolerance)\n",
    "\n",
    "# simulation const\n",
    "simulation = Simulation(complex_model.topology,system,integrator,platform,platformProperties)\n",
    "simulation.context.setPositions(complex_model.positions)\n",
    "\n",
    "# xml outputs\n",
    "with open(\"result/system.xml\",mode=\"w\") as f:\n",
    "    f.write(XmlSerializer.serialize(system))\n",
    "with open(\"result/integrator.xml\",mode=\"w\") as f:\n",
    "    f.write(XmlSerializer.serialize(integrator))\n",
    "\n",
    "# energy minimization\n",
    "print(\"energy minimization start\")\n",
    "simulation.minimizeEnergy()\n",
    "with open(\"data/topology.pdb\",\"w\") as f:\n",
    "    app.PDBFile.writeFile(\n",
    "        simulation.topology,\n",
    "        simulation.context.getState(getPositions=True,enforcePeriodicBox=True).getPositions(),\n",
    "        file=f,\n",
    "        keepIds=True\n",
    "    )\n",
    "\n",
    "# equilibration\n",
    "ts = time.perf_counter()\n",
    "print(\"equilibration start\")\n",
    "simulation.context.setVelocitiesToTemperature(temperature)\n",
    "simulation.step(equilibrationSteps)\n",
    "\n",
    "# repoters\n",
    "simulation.reporters.append(dcdReporter)\n",
    "simulation.reporters.append(dataReporter)\n",
    "simulation.reporters.append(checkpointReporter)\n",
    "simulation.currentStep = 0\n",
    "\n",
    "# simulation\n",
    "print(\"simulation start\")\n",
    "simulation.step(steps)\n",
    "\n",
    "# output\n",
    "simulation.saveState(\"result/final_state.xml\")\n",
    "state = simulation.context.getState(getPositions=True, enforcePeriodicBox=system.usesPeriodicBoundaryConditions())\n",
    "with open(\"result/final_state.cif\", mode=\"w\") as file:\n",
    "    PDBxFile.writeFile(simulation.topology, state.getPositions(), file)\n",
    "\n",
    "tg = time.perf_counter()\n",
    "elapse = tg - ts\n",
    "h = elapse // 3600\n",
    "m = (elapse % 3600) // 60\n",
    "s = elapse % 60\n",
    "print(f\"equib - simulation: {h} h {m} min {s} sec\")"
   ]
  },
  {
   "cell_type": "markdown",
   "metadata": {},
   "source": [
    "20 ns で　1.5 h (hiegm4), 57 min (hiegm8)"
   ]
  },
  {
   "cell_type": "code",
   "execution_count": null,
   "metadata": {},
   "outputs": [],
   "source": []
  }
 ],
 "metadata": {
  "kernelspec": {
   "display_name": "mdenv",
   "language": "python",
   "name": "python3"
  },
  "language_info": {
   "codemirror_mode": {
    "name": "ipython",
    "version": 3
   },
   "file_extension": ".py",
   "mimetype": "text/x-python",
   "name": "python",
   "nbconvert_exporter": "python",
   "pygments_lexer": "ipython3",
   "version": "3.11.8"
  }
 },
 "nbformat": 4,
 "nbformat_minor": 2
}
