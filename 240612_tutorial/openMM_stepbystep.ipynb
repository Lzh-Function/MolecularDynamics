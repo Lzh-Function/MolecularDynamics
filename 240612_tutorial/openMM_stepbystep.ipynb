{
 "cells": [
  {
   "cell_type": "code",
   "execution_count": 5,
   "metadata": {},
   "outputs": [],
   "source": [
    "import pprint\n",
    "\n",
    "import openmm as mm\n",
    "import openmm.app as app\n",
    "from openmm import unit\n",
    "import pdbfixer"
   ]
  },
  {
   "cell_type": "markdown",
   "metadata": {},
   "source": [
    "## PDBFixer"
   ]
  },
  {
   "cell_type": "code",
   "execution_count": 2,
   "metadata": {},
   "outputs": [
    {
     "name": "stdout",
     "output_type": "stream",
     "text": [
      "<Topology; 2 chains, 423 residues, 2536 atoms, 2463 bonds>\n",
      "[Vec3(x=-0.032400000000000005, y=3.2759, z=-0.39270000000000005), Vec3(x=-0.0237, y=3.1343, z=-0.3461), Vec3(x=0.119, y=3.0783000000000005, z=-0.3514)] nm\n"
     ]
    }
   ],
   "source": [
    "fixer = pdbfixer.PDBFixer(\"data/3poz.pdb\")\n",
    "print(fixer.topology)\n",
    "print(fixer.positions[0:3])"
   ]
  },
  {
   "cell_type": "code",
   "execution_count": 3,
   "metadata": {},
   "outputs": [],
   "source": [
    "# 分子力場の設定\n",
    "forcefield = app.ForceField(\"amber14-all.xml\",\"amber14/tip3pfb.xml\") # 主な力場と水モデルを指定"
   ]
  },
  {
   "cell_type": "code",
   "execution_count": 4,
   "metadata": {},
   "outputs": [],
   "source": [
    "# remove heterogen\n",
    "fixer.removeHeterogens(keepWater=True)"
   ]
  },
  {
   "cell_type": "code",
   "execution_count": 9,
   "metadata": {},
   "outputs": [],
   "source": [
    "# 残基の確認\n",
    "pprint.pprint(fixer.findMissingResidues())\n",
    "# 末端残基のみ削除する\n",
    "chains = list(fixer.topology.chains())\n",
    "keys = fixer.missingResidues.keys()\n",
    "for key in list(keys):\n",
    "    chain = chains[key[0]]\n",
    "    if key[1] == 0 or key[1] == len(list(chain.residues())):\n",
    "        del fixer.missingResidues[key]"
   ]
  },
  {
   "cell_type": "code",
   "execution_count": 12,
   "metadata": {},
   "outputs": [],
   "source": [
    "# 非標準残基の置換 (3pozにはない)\n",
    "fixer.findNonstandardResidues()\n",
    "fixer.replaceNonstandardResidues()"
   ]
  },
  {
   "cell_type": "code",
   "execution_count": 16,
   "metadata": {},
   "outputs": [],
   "source": [
    "# 欠損原子の確認\n",
    "fixer.findMissingAtoms()\n",
    "fixer.addMissingAtoms()"
   ]
  },
  {
   "cell_type": "code",
   "execution_count": 17,
   "metadata": {},
   "outputs": [],
   "source": [
    "# 水素原子の付与\n",
    "ph = 7.0\n",
    "fixer.addMissingHydrogens(ph)"
   ]
  },
  {
   "cell_type": "code",
   "execution_count": 18,
   "metadata": {},
   "outputs": [],
   "source": [
    "# 水ボックスの追加\n",
    "modeller = app.Modeller(fixer.topology,fixer.positions)\n",
    "modeller.addSolvent(forcefield,padding=1.0*unit.nanometers,ionicStrength=0.15*unit.molar) # padding: 水の層の厚み、ionicStrength: NaCl濃度(positiveIon,negativeIonで変更可能)"
   ]
  },
  {
   "cell_type": "code",
   "execution_count": 19,
   "metadata": {},
   "outputs": [],
   "source": [
    "# 出力\n",
    "top = modeller.getTopology()\n",
    "pos = modeller.getPositions()\n",
    "app.PDBFile.writeFile(top,pos,open(\"data/3poz_processed.pdb\",\"w\"))"
   ]
  },
  {
   "cell_type": "code",
   "execution_count": null,
   "metadata": {},
   "outputs": [],
   "source": []
  }
 ],
 "metadata": {
  "kernelspec": {
   "display_name": "mdenv",
   "language": "python",
   "name": "python3"
  },
  "language_info": {
   "codemirror_mode": {
    "name": "ipython",
    "version": 3
   },
   "file_extension": ".py",
   "mimetype": "text/x-python",
   "name": "python",
   "nbconvert_exporter": "python",
   "pygments_lexer": "ipython3",
   "version": "3.1.undefined"
  }
 },
 "nbformat": 4,
 "nbformat_minor": 2
}
